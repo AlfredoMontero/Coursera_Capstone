{
 "cells": [
  {
   "cell_type": "markdown",
   "metadata": {},
   "source": [
    "# IBM Capstone Project Week 4\n",
    "\n",
    "## Alfredo Montero Fernández"
   ]
  },
  {
   "cell_type": "markdown",
   "metadata": {},
   "source": [
    "### Part 1: Introduction Business Problem"
   ]
  },
  {
   "cell_type": "markdown",
   "metadata": {},
   "source": [
    "Tokyo is one of my favourites cities across all the world. It has so many things to offer: nice people, beautiful sights, a lot of entertainments and really really good food. Being as big as it is you can find a lot of different zones in the city that it will make you think you are travelling between cities.\n",
    "\n",
    "The number of overseas visitors is getting incremented year by year, getting a peak of nearly 32 million in 2019! Sadly 2020 has been a really hard time for tourism and hostelry, but we expect that in the near future everything will return to the good days for visting this amazing countries."
   ]
  },
  {
   "cell_type": "markdown",
   "metadata": {},
   "source": [
    "With the vast amount of restaurants distributed across the 23 wards of the city, it can be really hard to decide which one to choose. It even has 226 restaurants with a star on the Michelin guide!\n",
    "So with the help of Foursquare and Machine Learning algorithms, we will be able to get a good recommendation for you depending on what you want, recommending the best district for you! This way if you are a visitor to the rising sun country, continue reading, this is for you!"
   ]
  },
  {
   "cell_type": "markdown",
   "metadata": {},
   "source": [
    "### Part 2: Data Preparation"
   ]
  },
  {
   "cell_type": "markdown",
   "metadata": {},
   "source": [
    "- First we need the data of the different Tokyo's wards. We can obtain it from: https://en.wikipedia.org/wiki/Special_wards_of_Tokyo#List_of_special_wards\n",
    "- Secondly we will manage it and convert it to a data frame with the geographic location of every ward.\n",
    "- Lastly, with the help of Foursquare we will retrieve data for the restaurants on every ward and we will use it to compare each one of them and divide them into different klusters using K-means methods, so deppending on your tastes you will be able to know which wards are going to reward you with your favourite food. We will also obtain data from leaflet with the library folium so we can display a nice visualization map.\n"
   ]
  },
  {
   "cell_type": "markdown",
   "metadata": {},
   "source": [
    "On the second week of this project we will show our code step by step and the data obtained for each one."
   ]
  }
 ],
 "metadata": {
  "kernelspec": {
   "display_name": "Python 3",
   "language": "python",
   "name": "python3"
  },
  "language_info": {
   "codemirror_mode": {
    "name": "ipython",
    "version": 3
   },
   "file_extension": ".py",
   "mimetype": "text/x-python",
   "name": "python",
   "nbconvert_exporter": "python",
   "pygments_lexer": "ipython3",
   "version": "3.8.5"
  }
 },
 "nbformat": 4,
 "nbformat_minor": 4
}
